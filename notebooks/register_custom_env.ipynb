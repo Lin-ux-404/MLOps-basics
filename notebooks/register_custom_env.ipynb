{
 "cells": [
  {
   "cell_type": "markdown",
   "metadata": {},
   "source": [
    "# Create a Custom Environment in AML\n",
    "\n",
    "Use this notebook is you want to use your own custom environment. For more information https://learn.microsoft.com/en-us/azure/machine-learning/how-to-manage-environments-v2?view=azureml-api-2&tabs=python"
   ]
  },
  {
   "cell_type": "markdown",
   "metadata": {},
   "source": [
    "## Setup\n",
    "\n",
    "Load your environment variables and create your client."
   ]
  },
  {
   "cell_type": "code",
   "execution_count": 5,
   "metadata": {},
   "outputs": [],
   "source": [
    "from dotenv import load_dotenv\n",
    "import os\n",
    "load_dotenv() # take environment variables from .env.\n",
    "\n",
    "\n",
    "subscription = os.environ[\"SUBSCRIPTION\"]\n",
    "resource_group = os.environ[\"RESOURCE_GROUP\"]\n",
    "ws_name = os.environ[\"WORKSPACE_NAME\"]"
   ]
  },
  {
   "cell_type": "code",
   "execution_count": 6,
   "metadata": {},
   "outputs": [],
   "source": [
    "from azure.ai.ml import MLClient\n",
    "from azure.identity import DefaultAzureCredential\n",
    "\n",
    "# authenticate\n",
    "credential = DefaultAzureCredential()\n",
    "\n",
    "# Get a handle to the workspace\n",
    "ml_client = MLClient(\n",
    "    credential=credential,\n",
    "    subscription_id=subscription,\n",
    "    resource_group_name=resource_group,\n",
    "    workspace_name=ws_name,\n",
    ")"
   ]
  },
  {
   "cell_type": "markdown",
   "metadata": {},
   "source": [
    "## Create custom environment\n",
    "Create an environment using a conda file and upload it to AML Studio. Once the image is created, you can view the image in AML Studio (Assets/Environments/Custom environments). If you want to use the enviroment you just created, go to the component YAML files and place the environment with ```azureml:[ENV_NAME]@latest```"
   ]
  },
  {
   "cell_type": "code",
   "execution_count": null,
   "metadata": {},
   "outputs": [],
   "source": [
    "from azure.ai.ml.entities import Environment\n",
    "from azure.ai.ml import MLClient\n",
    "\n",
    "env = Environment(\n",
    "    name=\"custom_conda_env\",\n",
    "    version=\"1\",\n",
    "    conda_file=\"../conda_sample_env.yaml\", \n",
    "    image=\"mcr.microsoft.com/azureml/openmpi4.1.0-ubuntu20.04\", #replace this with the image you want to use\n",
    ")\n",
    "\n",
    "ml_client.environments.create_or_update(env)"
   ]
  },
  {
   "cell_type": "markdown",
   "metadata": {},
   "source": [
    "You can use this to check whether the image was registered properly"
   ]
  },
  {
   "cell_type": "code",
   "execution_count": null,
   "metadata": {},
   "outputs": [],
   "source": [
    "environments = ml_client.environments.list(name=\"custom_conda_env\")\n",
    "for env in environments:\n",
    "    print(f\"Environment Name: {env.name}, Version: {env.version}\")"
   ]
  }
 ],
 "metadata": {
  "kernelspec": {
   "display_name": "venv",
   "language": "python",
   "name": "python3"
  },
  "language_info": {
   "codemirror_mode": {
    "name": "ipython",
    "version": 3
   },
   "file_extension": ".py",
   "mimetype": "text/x-python",
   "name": "python",
   "nbconvert_exporter": "python",
   "pygments_lexer": "ipython3",
   "version": "3.11.9"
  }
 },
 "nbformat": 4,
 "nbformat_minor": 2
}
