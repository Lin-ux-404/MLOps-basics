{
 "cells": [
  {
   "cell_type": "markdown",
   "metadata": {},
   "source": [
    "# Title Here"
   ]
  },
  {
   "cell_type": "markdown",
   "metadata": {},
   "source": [
    "### Connect to your workspace\n",
    "\n",
    "To connect to a workspace, we need identifier parameters - a subscription ID, resource group name, and workspace name. Since you're working with a compute instance, managed by Azure Machine Learning, you can use the default values to connect to the workspace."
   ]
  },
  {
   "cell_type": "code",
   "execution_count": 8,
   "metadata": {},
   "outputs": [],
   "source": [
    "from azure.ai.ml import MLClient\n",
    "from azure.identity import DefaultAzureCredential\n",
    "\n",
    "# authenticate\n",
    "credential = DefaultAzureCredential()\n",
    "\n",
    "SUBSCRIPTION = \"5bab2ebd-b16a-469d-8aa4-abdaea7f9e17\"\n",
    "RESOURCE_GROUP = \"rg-dp100-l\"\n",
    "WS_NAME = \"mlw-dp100-l\"\n",
    "# Get a handle to the workspace\n",
    "ml_client = MLClient(\n",
    "    credential=credential,\n",
    "    subscription_id=SUBSCRIPTION,\n",
    "    resource_group_name=RESOURCE_GROUP,\n",
    "    workspace_name=WS_NAME,\n",
    ")"
   ]
  },
  {
   "cell_type": "markdown",
   "metadata": {},
   "source": [
    "Create Data store and upload training data"
   ]
  },
  {
   "cell_type": "code",
   "execution_count": 9,
   "metadata": {},
   "outputs": [
    {
     "data": {
      "text/plain": [
       "Data({'path': 'azureml://subscriptions/5bab2ebd-b16a-469d-8aa4-abdaea7f9e17/resourcegroups/rg-dp100-l/workspaces/mlw-dp100-l/datastores/workspaceblobstore/paths/LocalUpload/177b0cdcf5bcd30ff675ca95a93cbccd/data/', 'skip_validation': False, 'mltable_schema_url': None, 'referenced_uris': None, 'type': 'uri_folder', 'is_anonymous': False, 'auto_increment_version': False, 'auto_delete_setting': None, 'name': 'diabetes-data-train', 'description': 'An unlabeled dataset for diabetes classification', 'tags': {}, 'properties': {}, 'print_as_yaml': False, 'id': '/subscriptions/5bab2ebd-b16a-469d-8aa4-abdaea7f9e17/resourceGroups/rg-dp100-l/providers/Microsoft.MachineLearningServices/workspaces/mlw-dp100-l/data/diabetes-data-train/versions/6', 'Resource__source_path': '', 'base_path': 'c:\\\\Users\\\\shenglinxu\\\\OneDrive - Microsoft\\\\projects\\\\personal_projects\\\\MLOps-basics\\\\notebooks', 'creation_context': <azure.ai.ml.entities._system_data.SystemData object at 0x0000024ADDEA6C50>, 'serialize': <msrest.serialization.Serializer object at 0x0000024ADE3BF010>, 'version': '6', 'latest_version': None, 'datastore': None})"
      ]
     },
     "execution_count": 9,
     "metadata": {},
     "output_type": "execute_result"
    }
   ],
   "source": [
    "from azure.ai.ml.entities import Data\n",
    "from azure.ai.ml.constants import AssetTypes\n",
    "\n",
    "data_path = \"../data\"\n",
    "dataset_name = \"diabetes-data-train\"\n",
    "\n",
    "patient_dataset_unlabeled = Data(\n",
    "    path=data_path,\n",
    "    type=AssetTypes.URI_FOLDER,\n",
    "    description=\"An unlabeled dataset for diabetes classification\",\n",
    "    name=dataset_name,\n",
    ")\n",
    "ml_client.data.create_or_update(patient_dataset_unlabeled)"
   ]
  },
  {
   "cell_type": "code",
   "execution_count": 10,
   "metadata": {},
   "outputs": [
    {
     "name": "stdout",
     "output_type": "stream",
     "text": [
      "creation_context:\n",
      "  created_at: '2024-11-28T23:11:51.946346+00:00'\n",
      "  created_by: System Administrator\n",
      "  created_by_type: User\n",
      "  last_modified_at: '2024-11-28T23:11:51.960205+00:00'\n",
      "description: An unlabeled dataset for diabetes classification\n",
      "id: /subscriptions/5bab2ebd-b16a-469d-8aa4-abdaea7f9e17/resourceGroups/rg-dp100-l/providers/Microsoft.MachineLearningServices/workspaces/mlw-dp100-l/data/diabetes-data-train/versions/6\n",
      "name: diabetes-data-train\n",
      "path: azureml://subscriptions/5bab2ebd-b16a-469d-8aa4-abdaea7f9e17/resourcegroups/rg-dp100-l/workspaces/mlw-dp100-l/datastores/workspaceblobstore/paths/LocalUpload/177b0cdcf5bcd30ff675ca95a93cbccd/data/\n",
      "properties: {}\n",
      "tags: {}\n",
      "type: uri_folder\n",
      "version: '6'\n",
      "\n"
     ]
    }
   ],
   "source": [
    "patient_dataset_unlabeled = ml_client.data.get(\n",
    "    name=\"diabetes-data-train\", label=\"latest\"\n",
    ")\n",
    "\n",
    "print(patient_dataset_unlabeled)"
   ]
  },
  {
   "cell_type": "markdown",
   "metadata": {},
   "source": [
    "Load components"
   ]
  },
  {
   "cell_type": "code",
   "execution_count": 16,
   "metadata": {},
   "outputs": [],
   "source": [
    "from azure.ai.ml import load_component\n",
    "parent_dir = \"../components/\"\n",
    "\n",
    "fix_missing_data = load_component(source=parent_dir + \"fix-missing-data.yml\")\n",
    "normalize_data = load_component(source=parent_dir + \"normalize-data.yml\")\n",
    "train_decision_tree = load_component(source=parent_dir + \"train-decision-tree.yml\")\n",
    "train_logistic_regression = load_component(source=parent_dir + \"train-logistic-regression.yml\")\n",
    "\n",
    "\n"
   ]
  },
  {
   "cell_type": "markdown",
   "metadata": {},
   "source": [
    "Build pipeline"
   ]
  },
  {
   "cell_type": "code",
   "execution_count": 17,
   "metadata": {},
   "outputs": [
    {
     "name": "stdout",
     "output_type": "stream",
     "text": [
      "display_name: diabetes_classification\n",
      "type: pipeline\n",
      "inputs:\n",
      "  pipeline_job_input:\n",
      "    type: uri_file\n",
      "    path: azureml://subscriptions/5bab2ebd-b16a-469d-8aa4-abdaea7f9e17/resourcegroups/rg-dp100-l/workspaces/mlw-dp100-l/datastores/workspaceblobstore/paths/LocalUpload/177b0cdcf5bcd30ff675ca95a93cbccd/data/\n",
      "outputs:\n",
      "  pipeline_job_transformed_data:\n",
      "    type: uri_folder\n",
      "  pipeline_job_trained_model_decision_tree:\n",
      "    type: uri_folder\n",
      "  pipeline_job_trained_model_logistic_regression:\n",
      "    type: uri_folder\n",
      "jobs:\n",
      "  clean_data:\n",
      "    type: command\n",
      "    inputs:\n",
      "      input_data:\n",
      "        path: ${{parent.inputs.pipeline_job_input}}\n",
      "    component:\n",
      "      $schema: https://azuremlschemas.azureedge.net/latest/commandComponent.schema.json\n",
      "      name: remove_empty_rows\n",
      "      version: '1'\n",
      "      display_name: Remove Empty Rows\n",
      "      type: command\n",
      "      inputs:\n",
      "        input_data:\n",
      "          type: uri_folder\n",
      "      outputs:\n",
      "        output_data:\n",
      "          type: uri_folder\n",
      "      command: python fix-missing-data.py  --input_data ${{inputs.input_data}}  --output_data\n",
      "        ${{outputs.output_data}}\n",
      "      environment: azureml:AzureML-sklearn-0.24-ubuntu18.04-py37-cpu@latest\n",
      "      code: C:/Users/shenglinxu/OneDrive - Microsoft/projects/personal_projects/MLOps-basics/src\n",
      "      is_deterministic: true\n",
      "  normalized_data:\n",
      "    type: command\n",
      "    inputs:\n",
      "      input_data:\n",
      "        path: ${{parent.jobs.clean_data.outputs.output_data}}\n",
      "    outputs:\n",
      "      output_data: ${{parent.outputs.pipeline_job_transformed_data}}\n",
      "    component:\n",
      "      $schema: https://azuremlschemas.azureedge.net/latest/commandComponent.schema.json\n",
      "      name: normalize_data\n",
      "      version: '1'\n",
      "      display_name: Normalize Numerical Columns\n",
      "      type: command\n",
      "      inputs:\n",
      "        input_data:\n",
      "          type: uri_folder\n",
      "      outputs:\n",
      "        output_data:\n",
      "          type: uri_folder\n",
      "      command: python normalize-data.py  --input_data ${{inputs.input_data}}  --output_data\n",
      "        ${{outputs.output_data}}\n",
      "      environment: azureml:AzureML-sklearn-0.24-ubuntu18.04-py37-cpu@latest\n",
      "      code: C:/Users/shenglinxu/OneDrive - Microsoft/projects/personal_projects/MLOps-basics/src\n",
      "      is_deterministic: true\n",
      "  train_model_decision_tree:\n",
      "    type: command\n",
      "    inputs:\n",
      "      training_data:\n",
      "        path: ${{parent.jobs.normalized_data.outputs.output_data}}\n",
      "    outputs:\n",
      "      model_output_decision_tree: ${{parent.outputs.pipeline_job_trained_model_decision_tree}}\n",
      "    component:\n",
      "      $schema: https://azuremlschemas.azureedge.net/latest/commandComponent.schema.json\n",
      "      name: train_decision_tree_classifier_model\n",
      "      version: '1'\n",
      "      display_name: Train a Decision Tree Classifier Model\n",
      "      type: command\n",
      "      inputs:\n",
      "        training_data:\n",
      "          type: uri_folder\n",
      "      outputs:\n",
      "        model_output_decision_tree:\n",
      "          type: uri_folder\n",
      "      command: python train-decision-tree.py  --training_data ${{inputs.training_data}}  --model_output_decision_tree\n",
      "        ${{outputs.model_output_decision_tree}}\n",
      "      environment: azureml:AzureML-sklearn-0.24-ubuntu18.04-py37-cpu@latest\n",
      "      code: C:/Users/shenglinxu/OneDrive - Microsoft/projects/personal_projects/MLOps-basics/src\n",
      "      is_deterministic: true\n",
      "  train_model_logistic_regression:\n",
      "    type: command\n",
      "    inputs:\n",
      "      training_data:\n",
      "        path: ${{parent.jobs.normalized_data.outputs.output_data}}\n",
      "    outputs:\n",
      "      model_output_logistic_reg: ${{parent.outputs.pipeline_job_trained_model_logistic_regression}}\n",
      "    component:\n",
      "      $schema: https://azuremlschemas.azureedge.net/latest/commandComponent.schema.json\n",
      "      name: train_logistic_regression_classifier_model\n",
      "      version: '1'\n",
      "      display_name: Train a Logistic Regression Classifier Model\n",
      "      type: command\n",
      "      inputs:\n",
      "        training_data:\n",
      "          type: uri_folder\n",
      "        regularization_rate:\n",
      "          type: number\n",
      "          default: '0.01'\n",
      "      outputs:\n",
      "        model_output_logistic_reg:\n",
      "          type: uri_folder\n",
      "      command: python train-logistic-regression.py  --training_data ${{inputs.training_data}}\n",
      "        --reg_rate ${{inputs.regularization_rate}} --model_output_logistic_reg ${{outputs.model_output_logistic_reg}}\n",
      "      environment: azureml:AzureML-sklearn-0.24-ubuntu18.04-py37-cpu@latest\n",
      "      code: C:/Users/shenglinxu/OneDrive - Microsoft/projects/personal_projects/MLOps-basics/src\n",
      "      is_deterministic: true\n",
      "\n"
     ]
    }
   ],
   "source": [
    "from azure.ai.ml import Input\n",
    "from azure.ai.ml.constants import AssetTypes\n",
    "from azure.ai.ml.dsl import pipeline\n",
    "\n",
    "@pipeline()\n",
    "def diabetes_classification(pipeline_job_input):\n",
    "    clean_data = fix_missing_data(input_data=pipeline_job_input)\n",
    "    normalized_data = normalize_data(input_data=clean_data.outputs.output_data)\n",
    "    train_model_decision_tree = train_decision_tree(training_data=normalized_data.outputs.output_data)\n",
    "    train_model_logistic_regression = train_logistic_regression(training_data=normalized_data.outputs.output_data)\n",
    "\n",
    "\n",
    "    return {\n",
    "        \"pipeline_job_transformed_data\": normalized_data.outputs.output_data,\n",
    "        \"pipeline_job_trained_model_decision_tree\": train_model_decision_tree.outputs.model_output_decision_tree,\n",
    "        \"pipeline_job_trained_model_logistic_regression\": train_model_logistic_regression.outputs.model_output_logistic_reg,\n",
    "    }\n",
    "\n",
    "pipeline_job = diabetes_classification(Input(type=AssetTypes.URI_FILE, path=patient_dataset_unlabeled.path))\n",
    "print(pipeline_job)"
   ]
  },
  {
   "cell_type": "code",
   "execution_count": 18,
   "metadata": {},
   "outputs": [
    {
     "name": "stdout",
     "output_type": "stream",
     "text": [
      "display_name: diabetes_classification\n",
      "type: pipeline\n",
      "inputs:\n",
      "  pipeline_job_input:\n",
      "    type: uri_file\n",
      "    path: azureml://subscriptions/5bab2ebd-b16a-469d-8aa4-abdaea7f9e17/resourcegroups/rg-dp100-l/workspaces/mlw-dp100-l/datastores/workspaceblobstore/paths/LocalUpload/177b0cdcf5bcd30ff675ca95a93cbccd/data/\n",
      "outputs:\n",
      "  pipeline_job_transformed_data:\n",
      "    type: uri_folder\n",
      "  pipeline_job_trained_model_decision_tree:\n",
      "    type: uri_folder\n",
      "  pipeline_job_trained_model_logistic_regression:\n",
      "    type: uri_folder\n",
      "jobs:\n",
      "  clean_data:\n",
      "    type: command\n",
      "    inputs:\n",
      "      input_data:\n",
      "        path: ${{parent.inputs.pipeline_job_input}}\n",
      "    component:\n",
      "      $schema: https://azuremlschemas.azureedge.net/latest/commandComponent.schema.json\n",
      "      name: remove_empty_rows\n",
      "      version: '1'\n",
      "      display_name: Remove Empty Rows\n",
      "      type: command\n",
      "      inputs:\n",
      "        input_data:\n",
      "          type: uri_folder\n",
      "      outputs:\n",
      "        output_data:\n",
      "          type: uri_folder\n",
      "      command: python fix-missing-data.py  --input_data ${{inputs.input_data}}  --output_data\n",
      "        ${{outputs.output_data}}\n",
      "      environment: azureml:AzureML-sklearn-0.24-ubuntu18.04-py37-cpu@latest\n",
      "      code: C:/Users/shenglinxu/OneDrive - Microsoft/projects/personal_projects/MLOps-basics/src\n",
      "      is_deterministic: true\n",
      "  normalized_data:\n",
      "    type: command\n",
      "    inputs:\n",
      "      input_data:\n",
      "        path: ${{parent.jobs.clean_data.outputs.output_data}}\n",
      "    outputs:\n",
      "      output_data: ${{parent.outputs.pipeline_job_transformed_data}}\n",
      "    component:\n",
      "      $schema: https://azuremlschemas.azureedge.net/latest/commandComponent.schema.json\n",
      "      name: normalize_data\n",
      "      version: '1'\n",
      "      display_name: Normalize Numerical Columns\n",
      "      type: command\n",
      "      inputs:\n",
      "        input_data:\n",
      "          type: uri_folder\n",
      "      outputs:\n",
      "        output_data:\n",
      "          type: uri_folder\n",
      "      command: python normalize-data.py  --input_data ${{inputs.input_data}}  --output_data\n",
      "        ${{outputs.output_data}}\n",
      "      environment: azureml:AzureML-sklearn-0.24-ubuntu18.04-py37-cpu@latest\n",
      "      code: C:/Users/shenglinxu/OneDrive - Microsoft/projects/personal_projects/MLOps-basics/src\n",
      "      is_deterministic: true\n",
      "  train_model_decision_tree:\n",
      "    type: command\n",
      "    inputs:\n",
      "      training_data:\n",
      "        path: ${{parent.jobs.normalized_data.outputs.output_data}}\n",
      "    outputs:\n",
      "      model_output_decision_tree: ${{parent.outputs.pipeline_job_trained_model_decision_tree}}\n",
      "    component:\n",
      "      $schema: https://azuremlschemas.azureedge.net/latest/commandComponent.schema.json\n",
      "      name: train_decision_tree_classifier_model\n",
      "      version: '1'\n",
      "      display_name: Train a Decision Tree Classifier Model\n",
      "      type: command\n",
      "      inputs:\n",
      "        training_data:\n",
      "          type: uri_folder\n",
      "      outputs:\n",
      "        model_output_decision_tree:\n",
      "          type: uri_folder\n",
      "      command: python train-decision-tree.py  --training_data ${{inputs.training_data}}  --model_output_decision_tree\n",
      "        ${{outputs.model_output_decision_tree}}\n",
      "      environment: azureml:AzureML-sklearn-0.24-ubuntu18.04-py37-cpu@latest\n",
      "      code: C:/Users/shenglinxu/OneDrive - Microsoft/projects/personal_projects/MLOps-basics/src\n",
      "      is_deterministic: true\n",
      "  train_model_logistic_regression:\n",
      "    type: command\n",
      "    inputs:\n",
      "      training_data:\n",
      "        path: ${{parent.jobs.normalized_data.outputs.output_data}}\n",
      "    outputs:\n",
      "      model_output_logistic_reg: ${{parent.outputs.pipeline_job_trained_model_logistic_regression}}\n",
      "    component:\n",
      "      $schema: https://azuremlschemas.azureedge.net/latest/commandComponent.schema.json\n",
      "      name: train_logistic_regression_classifier_model\n",
      "      version: '1'\n",
      "      display_name: Train a Logistic Regression Classifier Model\n",
      "      type: command\n",
      "      inputs:\n",
      "        training_data:\n",
      "          type: uri_folder\n",
      "        regularization_rate:\n",
      "          type: number\n",
      "          default: '0.01'\n",
      "      outputs:\n",
      "        model_output_logistic_reg:\n",
      "          type: uri_folder\n",
      "      command: python train-logistic-regression.py  --training_data ${{inputs.training_data}}\n",
      "        --reg_rate ${{inputs.regularization_rate}} --model_output_logistic_reg ${{outputs.model_output_logistic_reg}}\n",
      "      environment: azureml:AzureML-sklearn-0.24-ubuntu18.04-py37-cpu@latest\n",
      "      code: C:/Users/shenglinxu/OneDrive - Microsoft/projects/personal_projects/MLOps-basics/src\n",
      "      is_deterministic: true\n",
      "settings:\n",
      "  default_datastore: azureml:workspaceblobstore\n",
      "  default_compute: azureml:aml-cluster\n",
      "\n"
     ]
    }
   ],
   "source": [
    "\n",
    "# set pipeline level compute\n",
    "pipeline_job.settings.default_compute = \"aml-cluster\"\n",
    "# set pipeline level datastore\n",
    "pipeline_job.settings.default_datastore = \"workspaceblobstore\"\n",
    "\n",
    "# print the pipeline job again to review the changes\n",
    "print(pipeline_job)"
   ]
  },
  {
   "cell_type": "code",
   "execution_count": 19,
   "metadata": {},
   "outputs": [
    {
     "name": "stderr",
     "output_type": "stream",
     "text": [
      "\u001b[32mUploading src (0.01 MBs): 100%|##########| 8451/8451 [00:00<00:00, 53858.43it/s]\n",
      "\u001b[39m\n",
      "\n",
      "pathOnCompute is not a known attribute of class <class 'azure.ai.ml._restclient.v2023_04_01_preview.models._models_py3.UriFolderJobOutput'> and will be ignored\n",
      "pathOnCompute is not a known attribute of class <class 'azure.ai.ml._restclient.v2023_04_01_preview.models._models_py3.UriFolderJobOutput'> and will be ignored\n",
      "pathOnCompute is not a known attribute of class <class 'azure.ai.ml._restclient.v2023_04_01_preview.models._models_py3.UriFolderJobOutput'> and will be ignored\n"
     ]
    },
    {
     "data": {
      "text/html": [
       "<table style=\"width:100%\"><tr><th>Experiment</th><th>Name</th><th>Type</th><th>Status</th><th>Details Page</th></tr><tr><td>pipeline_diabetes_training</td><td>shy_hominy_42m2v1djkv</td><td>pipeline</td><td>NotStarted</td><td><a href=\"https://ml.azure.com/runs/shy_hominy_42m2v1djkv?wsid=/subscriptions/5bab2ebd-b16a-469d-8aa4-abdaea7f9e17/resourcegroups/rg-dp100-l/workspaces/mlw-dp100-l&amp;tid=f4e52973-e80e-4711-9fa2-250b17c1c4f6\" target=\"_blank\" rel=\"noopener\">Link to Azure Machine Learning studio</a></td></tr></table>"
      ],
      "text/plain": [
       "PipelineJob({'inputs': {'pipeline_job_input': <azure.ai.ml.entities._job.pipeline._io.base.PipelineInput object at 0x0000024ADFD90D90>}, 'outputs': {'pipeline_job_transformed_data': <azure.ai.ml.entities._job.pipeline._io.base.PipelineOutput object at 0x0000024ADFD90710>, 'pipeline_job_trained_model_decision_tree': <azure.ai.ml.entities._job.pipeline._io.base.PipelineOutput object at 0x0000024ADFD908D0>, 'pipeline_job_trained_model_logistic_regression': <azure.ai.ml.entities._job.pipeline._io.base.PipelineOutput object at 0x0000024ADFD90750>}, 'jobs': {}, 'component': PipelineComponent({'latest_version': None, 'intellectual_property': None, 'auto_increment_version': False, 'source': 'REMOTE.WORKSPACE.JOB', 'is_anonymous': True, 'auto_delete_setting': None, 'name': 'azureml_anonymous', 'description': None, 'tags': {}, 'properties': {}, 'print_as_yaml': False, 'id': None, 'Resource__source_path': None, 'base_path': 'c:\\\\Users\\\\shenglinxu\\\\OneDrive - Microsoft\\\\projects\\\\personal_projects\\\\MLOps-basics\\\\notebooks', 'creation_context': None, 'serialize': <msrest.serialization.Serializer object at 0x0000024ADFD91510>, 'version': '1', 'schema': None, 'type': 'pipeline', 'display_name': 'diabetes_classification', 'is_deterministic': None, 'inputs': {'pipeline_job_input': {}}, 'outputs': {'pipeline_job_transformed_data': {}, 'pipeline_job_trained_model_decision_tree': {}, 'pipeline_job_trained_model_logistic_regression': {}}, 'yaml_str': None, 'other_parameter': {}, 'jobs': {'clean_data': Command({'parameters': {}, 'init': False, 'name': 'clean_data', 'type': 'command', 'status': None, 'log_files': None, 'description': None, 'tags': {}, 'properties': {}, 'print_as_yaml': False, 'id': None, 'Resource__source_path': '', 'base_path': 'c:\\\\Users\\\\shenglinxu\\\\OneDrive - Microsoft\\\\projects\\\\personal_projects\\\\MLOps-basics\\\\notebooks', 'creation_context': None, 'serialize': <msrest.serialization.Serializer object at 0x0000024ADFC90410>, 'allowed_keys': {}, 'key_restriction': False, 'logger': <TraceLogger attr_dict (WARNING)>, 'display_name': None, 'experiment_name': None, 'compute': None, 'services': None, 'comment': None, 'job_inputs': {'input_data': '${{parent.inputs.pipeline_job_input}}'}, 'job_outputs': {}, 'inputs': {'input_data': <azure.ai.ml.entities._job.pipeline._io.base.NodeInput object at 0x0000024ADFC91C90>}, 'outputs': {}, 'component': 'azureml_anonymous:aa456035-6a49-45a2-b88c-529a24a022a9', 'referenced_control_flow_node_instance_id': None, 'kwargs': {'services': None}, 'instance_id': 'eb8844a5-7f61-4bc4-af38-8ced5031277c', 'source': 'YAML.COMPONENT', 'validate_required_input_not_provided': True, 'limits': None, 'identity': None, 'distribution': None, 'environment_variables': {}, 'environment': None, 'resources': None, 'queue_settings': None, 'swept': False}), 'normalized_data': Command({'parameters': {}, 'init': False, 'name': 'normalized_data', 'type': 'command', 'status': None, 'log_files': None, 'description': None, 'tags': {}, 'properties': {}, 'print_as_yaml': False, 'id': None, 'Resource__source_path': '', 'base_path': 'c:\\\\Users\\\\shenglinxu\\\\OneDrive - Microsoft\\\\projects\\\\personal_projects\\\\MLOps-basics\\\\notebooks', 'creation_context': None, 'serialize': <msrest.serialization.Serializer object at 0x0000024ADFC90050>, 'allowed_keys': {}, 'key_restriction': False, 'logger': <TraceLogger attr_dict (WARNING)>, 'display_name': None, 'experiment_name': None, 'compute': None, 'services': None, 'comment': None, 'job_inputs': {'input_data': '${{parent.jobs.clean_data.outputs.output_data}}'}, 'job_outputs': {'output_data': '${{parent.outputs.pipeline_job_transformed_data}}'}, 'inputs': {'input_data': <azure.ai.ml.entities._job.pipeline._io.base.NodeInput object at 0x0000024ADFC90890>}, 'outputs': {'output_data': <azure.ai.ml.entities._job.pipeline._io.base.NodeOutput object at 0x0000024ADFC92190>}, 'component': 'azureml_anonymous:17320d47-6ef3-4f28-a8d5-abcaafafec78', 'referenced_control_flow_node_instance_id': None, 'kwargs': {'services': None}, 'instance_id': '73cc75a6-de37-4215-83fb-cb8c91b51ac9', 'source': 'YAML.COMPONENT', 'validate_required_input_not_provided': True, 'limits': None, 'identity': None, 'distribution': None, 'environment_variables': {}, 'environment': None, 'resources': None, 'queue_settings': None, 'swept': False}), 'train_model_decision_tree': Command({'parameters': {}, 'init': False, 'name': 'train_model_decision_tree', 'type': 'command', 'status': None, 'log_files': None, 'description': None, 'tags': {}, 'properties': {}, 'print_as_yaml': False, 'id': None, 'Resource__source_path': '', 'base_path': 'c:\\\\Users\\\\shenglinxu\\\\OneDrive - Microsoft\\\\projects\\\\personal_projects\\\\MLOps-basics\\\\notebooks', 'creation_context': None, 'serialize': <msrest.serialization.Serializer object at 0x0000024ADFC847D0>, 'allowed_keys': {}, 'key_restriction': False, 'logger': <TraceLogger attr_dict (WARNING)>, 'display_name': None, 'experiment_name': None, 'compute': None, 'services': None, 'comment': None, 'job_inputs': {'training_data': '${{parent.jobs.normalized_data.outputs.output_data}}'}, 'job_outputs': {'model_output_decision_tree': '${{parent.outputs.pipeline_job_trained_model_decision_tree}}'}, 'inputs': {'training_data': <azure.ai.ml.entities._job.pipeline._io.base.NodeInput object at 0x0000024ADDCFDB10>}, 'outputs': {'model_output_decision_tree': <azure.ai.ml.entities._job.pipeline._io.base.NodeOutput object at 0x0000024ADFC87290>}, 'component': 'azureml_anonymous:462c6bd0-1027-4d9f-8ac9-5fc3d6b5ca8f', 'referenced_control_flow_node_instance_id': None, 'kwargs': {'services': None}, 'instance_id': 'c550df64-7a84-494e-bccd-b911b3368eda', 'source': 'YAML.COMPONENT', 'validate_required_input_not_provided': True, 'limits': None, 'identity': None, 'distribution': None, 'environment_variables': {}, 'environment': None, 'resources': None, 'queue_settings': None, 'swept': False}), 'train_model_logistic_regression': Command({'parameters': {}, 'init': False, 'name': 'train_model_logistic_regression', 'type': 'command', 'status': None, 'log_files': None, 'description': None, 'tags': {}, 'properties': {}, 'print_as_yaml': False, 'id': None, 'Resource__source_path': '', 'base_path': 'c:\\\\Users\\\\shenglinxu\\\\OneDrive - Microsoft\\\\projects\\\\personal_projects\\\\MLOps-basics\\\\notebooks', 'creation_context': None, 'serialize': <msrest.serialization.Serializer object at 0x0000024ADFD90650>, 'allowed_keys': {}, 'key_restriction': False, 'logger': <TraceLogger attr_dict (WARNING)>, 'display_name': None, 'experiment_name': None, 'compute': None, 'services': None, 'comment': None, 'job_inputs': {'training_data': '${{parent.jobs.normalized_data.outputs.output_data}}'}, 'job_outputs': {'model_output_logistic_reg': '${{parent.outputs.pipeline_job_trained_model_logistic_regression}}'}, 'inputs': {'training_data': <azure.ai.ml.entities._job.pipeline._io.base.NodeInput object at 0x0000024ADFD90950>}, 'outputs': {'model_output_logistic_reg': <azure.ai.ml.entities._job.pipeline._io.base.NodeOutput object at 0x0000024ADFD90190>}, 'component': 'azureml_anonymous:e338b0d3-ec64-42f7-aeb2-7c5d1ad99e24', 'referenced_control_flow_node_instance_id': None, 'kwargs': {'services': None}, 'instance_id': 'fa9e903a-56a4-4e81-8adb-db67a4d97c91', 'source': 'YAML.COMPONENT', 'validate_required_input_not_provided': True, 'limits': None, 'identity': None, 'distribution': None, 'environment_variables': {}, 'environment': None, 'resources': None, 'queue_settings': None, 'swept': False})}, 'job_types': {'command': 4}, 'job_sources': {'YAML.COMPONENT': 4}, 'source_job_id': None}), 'type': 'pipeline', 'status': 'NotStarted', 'log_files': None, 'name': 'shy_hominy_42m2v1djkv', 'description': None, 'tags': {}, 'properties': {'mlflow.source.git.repoURL': 'https://github.com/Lin-ux-404/MLOps-basics.git', 'mlflow.source.git.branch': 'main', 'mlflow.source.git.commit': '1e78f2a30206dade9638b11c0d6e05b88000a23b', 'azureml.git.dirty': 'True'}, 'print_as_yaml': False, 'id': '/subscriptions/5bab2ebd-b16a-469d-8aa4-abdaea7f9e17/resourceGroups/rg-dp100-l/providers/Microsoft.MachineLearningServices/workspaces/mlw-dp100-l/jobs/shy_hominy_42m2v1djkv', 'Resource__source_path': '', 'base_path': 'c:\\\\Users\\\\shenglinxu\\\\OneDrive - Microsoft\\\\projects\\\\personal_projects\\\\MLOps-basics\\\\notebooks', 'creation_context': <azure.ai.ml.entities._system_data.SystemData object at 0x0000024ADFC87B90>, 'serialize': <msrest.serialization.Serializer object at 0x0000024ADFD93ED0>, 'display_name': 'diabetes_classification', 'experiment_name': 'pipeline_diabetes_training', 'compute': None, 'services': {'Tracking': {'endpoint': 'azureml://northeurope.api.azureml.ms/mlflow/v1.0/subscriptions/5bab2ebd-b16a-469d-8aa4-abdaea7f9e17/resourceGroups/rg-dp100-l/providers/Microsoft.MachineLearningServices/workspaces/mlw-dp100-l?', 'type': 'Tracking'}, 'Studio': {'endpoint': 'https://ml.azure.com/runs/shy_hominy_42m2v1djkv?wsid=/subscriptions/5bab2ebd-b16a-469d-8aa4-abdaea7f9e17/resourcegroups/rg-dp100-l/workspaces/mlw-dp100-l&tid=f4e52973-e80e-4711-9fa2-250b17c1c4f6', 'type': 'Studio'}}, 'settings': {}, 'identity': None, 'default_code': None, 'default_environment': None})"
      ]
     },
     "execution_count": 19,
     "metadata": {},
     "output_type": "execute_result"
    }
   ],
   "source": [
    "# submit job to workspace\n",
    "pipeline_job = ml_client.jobs.create_or_update(\n",
    "    pipeline_job, experiment_name=\"pipeline_diabetes_training\"\n",
    ")\n",
    "pipeline_job"
   ]
  },
  {
   "cell_type": "code",
   "execution_count": 24,
   "metadata": {},
   "outputs": [],
   "source": [
    "# List all child jobs in the job\n",
    "# List all child jobs in the job\n",
    "child_jobs = ml_client.jobs.list(parent_job_name=pipeline_job.name)\n",
    "\n",
    "# Traverse and download all the outputs of child job\n",
    "for child_job in child_jobs:\n",
    "    ml_client.jobs.download(name=child_job.name, output_name=\"model_output_decision_tree\", download_path=\"../outputs\")"
   ]
  },
  {
   "cell_type": "code",
   "execution_count": null,
   "metadata": {},
   "outputs": [],
   "source": [
    "from azure.ai.ml.entities import Model\n",
    "from azure.ai.ml.constants import AssetTypes\n",
    "\n",
    "model_name = 'diabetes-decision-tree-model'\n",
    "model = ml_client.models.create_or_update(\n",
    "    Model(name=model_name, path='azureml:azureml_4cfaf918-27b0-42e6-98e3-3c99270db33b_output_data_model_output:1', type=AssetTypes.MLFLOW_MODEL)\n",
    ")"
   ]
  }
 ],
 "metadata": {
  "kernelspec": {
   "display_name": "venv",
   "language": "python",
   "name": "python3"
  },
  "language_info": {
   "codemirror_mode": {
    "name": "ipython",
    "version": 3
   },
   "file_extension": ".py",
   "mimetype": "text/x-python",
   "name": "python",
   "nbconvert_exporter": "python",
   "pygments_lexer": "ipython3",
   "version": "3.11.9"
  }
 },
 "nbformat": 4,
 "nbformat_minor": 2
}
